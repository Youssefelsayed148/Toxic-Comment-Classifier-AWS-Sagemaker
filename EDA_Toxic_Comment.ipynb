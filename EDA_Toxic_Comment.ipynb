{
 "cells": [
  {
   "cell_type": "code",
   "execution_count": 3,
   "id": "aa20b742-a9f1-4fdd-9db1-2da6a5168704",
   "metadata": {
    "execution": {
     "iopub.execute_input": "2025-09-11T23:56:25.679062Z",
     "iopub.status.busy": "2025-09-11T23:56:25.678615Z",
     "iopub.status.idle": "2025-09-11T23:56:25.682719Z",
     "shell.execute_reply": "2025-09-11T23:56:25.681854Z",
     "shell.execute_reply.started": "2025-09-11T23:56:25.679035Z"
    }
   },
   "outputs": [],
   "source": [
    "import pandas as pd \n",
    "import matplotlib.pyplot as plt\n",
    "import seaborn as sns\n",
    "from collections import Counter\n",
    "import torch\n",
    "import json\n",
    "import re\n",
    "from sklearn.model_selection import train_test_split\n"
   ]
  },
  {
   "cell_type": "code",
   "execution_count": 4,
   "id": "c4ec38f7-e5e7-42f1-b027-892776a869f2",
   "metadata": {
    "execution": {
     "iopub.execute_input": "2025-09-11T23:56:26.138854Z",
     "iopub.status.busy": "2025-09-11T23:56:26.138571Z",
     "iopub.status.idle": "2025-09-11T23:56:28.348673Z",
     "shell.execute_reply": "2025-09-11T23:56:28.347954Z",
     "shell.execute_reply.started": "2025-09-11T23:56:26.138833Z"
    }
   },
   "outputs": [],
   "source": [
    "s3_path='s3://toxic-comment-classification-train/train.csv'\n",
    "df= pd.read_csv(s3_path)"
   ]
  },
  {
   "cell_type": "code",
   "execution_count": 5,
   "id": "58c2a3d6-3dd4-4245-b635-b2700dfa7d03",
   "metadata": {
    "execution": {
     "iopub.execute_input": "2025-09-11T23:56:29.060677Z",
     "iopub.status.busy": "2025-09-11T23:56:29.060222Z",
     "iopub.status.idle": "2025-09-11T23:56:29.073536Z",
     "shell.execute_reply": "2025-09-11T23:56:29.072954Z",
     "shell.execute_reply.started": "2025-09-11T23:56:29.060651Z"
    }
   },
   "outputs": [
    {
     "data": {
      "text/html": [
       "<div>\n",
       "<style scoped>\n",
       "    .dataframe tbody tr th:only-of-type {\n",
       "        vertical-align: middle;\n",
       "    }\n",
       "\n",
       "    .dataframe tbody tr th {\n",
       "        vertical-align: top;\n",
       "    }\n",
       "\n",
       "    .dataframe thead th {\n",
       "        text-align: right;\n",
       "    }\n",
       "</style>\n",
       "<table border=\"1\" class=\"dataframe\">\n",
       "  <thead>\n",
       "    <tr style=\"text-align: right;\">\n",
       "      <th></th>\n",
       "      <th>id</th>\n",
       "      <th>comment_text</th>\n",
       "      <th>toxic</th>\n",
       "      <th>severe_toxic</th>\n",
       "      <th>obscene</th>\n",
       "      <th>threat</th>\n",
       "      <th>insult</th>\n",
       "      <th>identity_hate</th>\n",
       "    </tr>\n",
       "  </thead>\n",
       "  <tbody>\n",
       "    <tr>\n",
       "      <th>0</th>\n",
       "      <td>0000997932d777bf</td>\n",
       "      <td>Explanation\\nWhy the edits made under my usern...</td>\n",
       "      <td>0</td>\n",
       "      <td>0</td>\n",
       "      <td>0</td>\n",
       "      <td>0</td>\n",
       "      <td>0</td>\n",
       "      <td>0</td>\n",
       "    </tr>\n",
       "    <tr>\n",
       "      <th>1</th>\n",
       "      <td>000103f0d9cfb60f</td>\n",
       "      <td>D'aww! He matches this background colour I'm s...</td>\n",
       "      <td>0</td>\n",
       "      <td>0</td>\n",
       "      <td>0</td>\n",
       "      <td>0</td>\n",
       "      <td>0</td>\n",
       "      <td>0</td>\n",
       "    </tr>\n",
       "    <tr>\n",
       "      <th>2</th>\n",
       "      <td>000113f07ec002fd</td>\n",
       "      <td>Hey man, I'm really not trying to edit war. It...</td>\n",
       "      <td>0</td>\n",
       "      <td>0</td>\n",
       "      <td>0</td>\n",
       "      <td>0</td>\n",
       "      <td>0</td>\n",
       "      <td>0</td>\n",
       "    </tr>\n",
       "    <tr>\n",
       "      <th>3</th>\n",
       "      <td>0001b41b1c6bb37e</td>\n",
       "      <td>\"\\nMore\\nI can't make any real suggestions on ...</td>\n",
       "      <td>0</td>\n",
       "      <td>0</td>\n",
       "      <td>0</td>\n",
       "      <td>0</td>\n",
       "      <td>0</td>\n",
       "      <td>0</td>\n",
       "    </tr>\n",
       "    <tr>\n",
       "      <th>4</th>\n",
       "      <td>0001d958c54c6e35</td>\n",
       "      <td>You, sir, are my hero. Any chance you remember...</td>\n",
       "      <td>0</td>\n",
       "      <td>0</td>\n",
       "      <td>0</td>\n",
       "      <td>0</td>\n",
       "      <td>0</td>\n",
       "      <td>0</td>\n",
       "    </tr>\n",
       "    <tr>\n",
       "      <th>5</th>\n",
       "      <td>00025465d4725e87</td>\n",
       "      <td>\"\\n\\nCongratulations from me as well, use the ...</td>\n",
       "      <td>0</td>\n",
       "      <td>0</td>\n",
       "      <td>0</td>\n",
       "      <td>0</td>\n",
       "      <td>0</td>\n",
       "      <td>0</td>\n",
       "    </tr>\n",
       "    <tr>\n",
       "      <th>6</th>\n",
       "      <td>0002bcb3da6cb337</td>\n",
       "      <td>COCKSUCKER BEFORE YOU PISS AROUND ON MY WORK</td>\n",
       "      <td>1</td>\n",
       "      <td>1</td>\n",
       "      <td>1</td>\n",
       "      <td>0</td>\n",
       "      <td>1</td>\n",
       "      <td>0</td>\n",
       "    </tr>\n",
       "    <tr>\n",
       "      <th>7</th>\n",
       "      <td>00031b1e95af7921</td>\n",
       "      <td>Your vandalism to the Matt Shirvington article...</td>\n",
       "      <td>0</td>\n",
       "      <td>0</td>\n",
       "      <td>0</td>\n",
       "      <td>0</td>\n",
       "      <td>0</td>\n",
       "      <td>0</td>\n",
       "    </tr>\n",
       "    <tr>\n",
       "      <th>8</th>\n",
       "      <td>00037261f536c51d</td>\n",
       "      <td>Sorry if the word 'nonsense' was offensive to ...</td>\n",
       "      <td>0</td>\n",
       "      <td>0</td>\n",
       "      <td>0</td>\n",
       "      <td>0</td>\n",
       "      <td>0</td>\n",
       "      <td>0</td>\n",
       "    </tr>\n",
       "    <tr>\n",
       "      <th>9</th>\n",
       "      <td>00040093b2687caa</td>\n",
       "      <td>alignment on this subject and which are contra...</td>\n",
       "      <td>0</td>\n",
       "      <td>0</td>\n",
       "      <td>0</td>\n",
       "      <td>0</td>\n",
       "      <td>0</td>\n",
       "      <td>0</td>\n",
       "    </tr>\n",
       "  </tbody>\n",
       "</table>\n",
       "</div>"
      ],
      "text/plain": [
       "                 id                                       comment_text  toxic  \\\n",
       "0  0000997932d777bf  Explanation\\nWhy the edits made under my usern...      0   \n",
       "1  000103f0d9cfb60f  D'aww! He matches this background colour I'm s...      0   \n",
       "2  000113f07ec002fd  Hey man, I'm really not trying to edit war. It...      0   \n",
       "3  0001b41b1c6bb37e  \"\\nMore\\nI can't make any real suggestions on ...      0   \n",
       "4  0001d958c54c6e35  You, sir, are my hero. Any chance you remember...      0   \n",
       "5  00025465d4725e87  \"\\n\\nCongratulations from me as well, use the ...      0   \n",
       "6  0002bcb3da6cb337       COCKSUCKER BEFORE YOU PISS AROUND ON MY WORK      1   \n",
       "7  00031b1e95af7921  Your vandalism to the Matt Shirvington article...      0   \n",
       "8  00037261f536c51d  Sorry if the word 'nonsense' was offensive to ...      0   \n",
       "9  00040093b2687caa  alignment on this subject and which are contra...      0   \n",
       "\n",
       "   severe_toxic  obscene  threat  insult  identity_hate  \n",
       "0             0        0       0       0              0  \n",
       "1             0        0       0       0              0  \n",
       "2             0        0       0       0              0  \n",
       "3             0        0       0       0              0  \n",
       "4             0        0       0       0              0  \n",
       "5             0        0       0       0              0  \n",
       "6             1        1       0       1              0  \n",
       "7             0        0       0       0              0  \n",
       "8             0        0       0       0              0  \n",
       "9             0        0       0       0              0  "
      ]
     },
     "execution_count": 5,
     "metadata": {},
     "output_type": "execute_result"
    }
   ],
   "source": [
    "df.head(10)"
   ]
  },
  {
   "cell_type": "code",
   "execution_count": 6,
   "id": "1a265a04-9b03-4679-9337-58154a768889",
   "metadata": {
    "execution": {
     "iopub.execute_input": "2025-09-11T23:56:29.720482Z",
     "iopub.status.busy": "2025-09-11T23:56:29.720177Z",
     "iopub.status.idle": "2025-09-11T23:56:29.767338Z",
     "shell.execute_reply": "2025-09-11T23:56:29.766666Z",
     "shell.execute_reply.started": "2025-09-11T23:56:29.720460Z"
    }
   },
   "outputs": [
    {
     "name": "stdout",
     "output_type": "stream",
     "text": [
      "<class 'pandas.core.frame.DataFrame'>\n",
      "RangeIndex: 159571 entries, 0 to 159570\n",
      "Data columns (total 8 columns):\n",
      " #   Column         Non-Null Count   Dtype \n",
      "---  ------         --------------   ----- \n",
      " 0   id             159571 non-null  object\n",
      " 1   comment_text   159571 non-null  object\n",
      " 2   toxic          159571 non-null  int64 \n",
      " 3   severe_toxic   159571 non-null  int64 \n",
      " 4   obscene        159571 non-null  int64 \n",
      " 5   threat         159571 non-null  int64 \n",
      " 6   insult         159571 non-null  int64 \n",
      " 7   identity_hate  159571 non-null  int64 \n",
      "dtypes: int64(6), object(2)\n",
      "memory usage: 9.7+ MB\n"
     ]
    }
   ],
   "source": [
    "df.info()"
   ]
  },
  {
   "cell_type": "code",
   "execution_count": 35,
   "id": "abf73164-7610-472d-983c-7567a9ba902e",
   "metadata": {
    "execution": {
     "iopub.execute_input": "2025-09-12T00:01:35.720767Z",
     "iopub.status.busy": "2025-09-12T00:01:35.720485Z",
     "iopub.status.idle": "2025-09-12T00:01:35.729993Z",
     "shell.execute_reply": "2025-09-12T00:01:35.729324Z",
     "shell.execute_reply.started": "2025-09-12T00:01:35.720746Z"
    }
   },
   "outputs": [],
   "source": [
    "df_work= df.copy()"
   ]
  },
  {
   "cell_type": "code",
   "execution_count": 38,
   "id": "75add06a-eade-4988-b419-6c8fb8c3ddd1",
   "metadata": {
    "execution": {
     "iopub.execute_input": "2025-09-12T00:01:52.228428Z",
     "iopub.status.busy": "2025-09-12T00:01:52.228148Z",
     "iopub.status.idle": "2025-09-12T00:01:52.237260Z",
     "shell.execute_reply": "2025-09-12T00:01:52.236578Z",
     "shell.execute_reply.started": "2025-09-12T00:01:52.228407Z"
    }
   },
   "outputs": [],
   "source": [
    "df_work=df_work.drop(columns=['id','severe_toxic','obscene','threat','insult','identity_hate'],axis=1)"
   ]
  },
  {
   "cell_type": "code",
   "execution_count": 39,
   "id": "685ff6e1-dc77-4aa3-8357-50310a5c274d",
   "metadata": {
    "execution": {
     "iopub.execute_input": "2025-09-12T00:01:54.246317Z",
     "iopub.status.busy": "2025-09-12T00:01:54.246037Z",
     "iopub.status.idle": "2025-09-12T00:01:54.271936Z",
     "shell.execute_reply": "2025-09-12T00:01:54.271327Z",
     "shell.execute_reply.started": "2025-09-12T00:01:54.246296Z"
    }
   },
   "outputs": [
    {
     "name": "stdout",
     "output_type": "stream",
     "text": [
      "<class 'pandas.core.frame.DataFrame'>\n",
      "RangeIndex: 159571 entries, 0 to 159570\n",
      "Data columns (total 2 columns):\n",
      " #   Column        Non-Null Count   Dtype \n",
      "---  ------        --------------   ----- \n",
      " 0   comment_text  159571 non-null  object\n",
      " 1   toxic         159571 non-null  int64 \n",
      "dtypes: int64(1), object(1)\n",
      "memory usage: 2.4+ MB\n"
     ]
    }
   ],
   "source": [
    "df_work.info()"
   ]
  },
  {
   "cell_type": "code",
   "execution_count": 27,
   "id": "0379515c-048c-46c6-8ad0-3ca369868232",
   "metadata": {
    "execution": {
     "iopub.execute_input": "2025-09-11T23:59:58.054347Z",
     "iopub.status.busy": "2025-09-11T23:59:58.054054Z",
     "iopub.status.idle": "2025-09-11T23:59:58.121677Z",
     "shell.execute_reply": "2025-09-11T23:59:58.121050Z",
     "shell.execute_reply.started": "2025-09-11T23:59:58.054325Z"
    }
   },
   "outputs": [
    {
     "data": {
      "image/png": "[encoded data removed]",
      "text/plain": [
       "<Figure size 600x600 with 1 Axes>"
      ]
     },
     "metadata": {},
     "output_type": "display_data"
    }
   ],
   "source": [
    "class_counts = df_work['toxic'].value_counts()\n",
    "plt.figure(figsize=(6,6))\n",
    "plt.pie(class_counts.values, labels=class_counts.index, autopct='%1.1f%%', startangle=90)\n",
    "plt.title(\"Class distribution\")\n",
    "plt.show()"
   ]
  },
  {
   "cell_type": "code",
   "execution_count": 15,
   "id": "d2b2123c-6bb7-4bba-b3be-2ac4166f647f",
   "metadata": {
    "execution": {
     "iopub.execute_input": "2025-09-11T23:57:03.524921Z",
     "iopub.status.busy": "2025-09-11T23:57:03.524633Z",
     "iopub.status.idle": "2025-09-11T23:57:03.548668Z",
     "shell.execute_reply": "2025-09-11T23:57:03.547765Z",
     "shell.execute_reply.started": "2025-09-11T23:57:03.524899Z"
    }
   },
   "outputs": [
    {
     "name": "stdout",
     "output_type": "stream",
     "text": [
      "\n",
      "Calculated class weights: [1.1060044220492524, 10.433568719759382]\n"
     ]
    }
   ],
   "source": [
    "counter = Counter(df['toxic'])\n",
    "total = sum(counter.values())\n",
    "class_weights = [total / counter[c] for c in sorted(counter.keys())]\n",
    "print(\"\\nCalculated class weights:\", class_weights)\n"
   ]
  },
  {
   "cell_type": "code",
   "execution_count": 16,
   "id": "82db9ac1-a78e-4b2a-a8a6-60c6a87b4db0",
   "metadata": {
    "execution": {
     "iopub.execute_input": "2025-09-11T23:57:04.191728Z",
     "iopub.status.busy": "2025-09-11T23:57:04.191455Z",
     "iopub.status.idle": "2025-09-11T23:57:04.308293Z",
     "shell.execute_reply": "2025-09-11T23:57:04.307547Z",
     "shell.execute_reply.started": "2025-09-11T23:57:04.191707Z"
    }
   },
   "outputs": [
    {
     "name": "stdout",
     "output_type": "stream",
     "text": [
      "Tensor form (for training): tensor([ 1.1060, 10.4336])\n"
     ]
    }
   ],
   "source": [
    "class_weights_tensor = torch.FloatTensor(class_weights)\n",
    "print(\"Tensor form (for training):\", class_weights_tensor)\n"
   ]
  },
  {
   "cell_type": "code",
   "execution_count": 17,
   "id": "8af3dd67-e556-43c3-8c2d-c0a18b642b70",
   "metadata": {
    "execution": {
     "iopub.execute_input": "2025-09-11T23:57:04.563779Z",
     "iopub.status.busy": "2025-09-11T23:57:04.563472Z",
     "iopub.status.idle": "2025-09-11T23:57:04.571460Z",
     "shell.execute_reply": "2025-09-11T23:57:04.567968Z",
     "shell.execute_reply.started": "2025-09-11T23:57:04.563758Z"
    }
   },
   "outputs": [],
   "source": [
    "with open(\"class_weights.json\", \"w\") as f:\n",
    "    json.dump(class_weights, f)"
   ]
  },
  {
   "cell_type": "code",
   "execution_count": 18,
   "id": "c9d65607-02e2-4e59-9843-0e4edd5abe46",
   "metadata": {
    "execution": {
     "iopub.execute_input": "2025-09-11T23:57:05.032822Z",
     "iopub.status.busy": "2025-09-11T23:57:05.032412Z",
     "iopub.status.idle": "2025-09-11T23:57:05.037536Z",
     "shell.execute_reply": "2025-09-11T23:57:05.036706Z",
     "shell.execute_reply.started": "2025-09-11T23:57:05.032798Z"
    }
   },
   "outputs": [],
   "source": [
    "def clean_text_light(text):\n",
    "    text = text.lower()\n",
    "    text = re.sub(r'http\\S+|www\\S+', '', text)\n",
    "    text = re.sub(r'<.*?>', '', text)\n",
    "    text = text.replace(\"\\n\", \" \").replace(\"\\t\", \" \")\n",
    "    text = re.sub(r'\\s+', ' ', text).strip()\n",
    "    return text"
   ]
  },
  {
   "cell_type": "code",
   "execution_count": 40,
   "id": "647072ab-11f3-4f29-a68b-bb90982abc87",
   "metadata": {
    "execution": {
     "iopub.execute_input": "2025-09-12T00:02:05.227522Z",
     "iopub.status.busy": "2025-09-12T00:02:05.227226Z",
     "iopub.status.idle": "2025-09-12T00:02:09.882337Z",
     "shell.execute_reply": "2025-09-12T00:02:09.881676Z",
     "shell.execute_reply.started": "2025-09-12T00:02:05.227500Z"
    }
   },
   "outputs": [],
   "source": [
    "df_work['comment_text'] = df_work['comment_text'].apply(clean_text_light)\n"
   ]
  },
  {
   "cell_type": "code",
   "execution_count": 41,
   "id": "531fc91d-6897-4fba-a9e4-12af3ba0b43c",
   "metadata": {
    "execution": {
     "iopub.execute_input": "2025-09-12T00:02:09.883656Z",
     "iopub.status.busy": "2025-09-12T00:02:09.883343Z",
     "iopub.status.idle": "2025-09-12T00:02:09.907057Z",
     "shell.execute_reply": "2025-09-12T00:02:09.906387Z",
     "shell.execute_reply.started": "2025-09-12T00:02:09.883627Z"
    }
   },
   "outputs": [],
   "source": [
    "train, temp = train_test_split(df_work, test_size=0.2, random_state=42)\n",
    "valid, test = train_test_split(temp, test_size=0.5, random_state=42)\n"
   ]
  },
  {
   "cell_type": "code",
   "execution_count": 42,
   "id": "906ca8b8-b4a5-4f2d-a42b-6b19994eb05d",
   "metadata": {
    "execution": {
     "iopub.execute_input": "2025-09-12T00:02:10.128103Z",
     "iopub.status.busy": "2025-09-12T00:02:10.127824Z",
     "iopub.status.idle": "2025-09-12T00:02:10.165236Z",
     "shell.execute_reply": "2025-09-12T00:02:10.164512Z",
     "shell.execute_reply.started": "2025-09-12T00:02:10.128083Z"
    }
   },
   "outputs": [
    {
     "name": "stdout",
     "output_type": "stream",
     "text": [
      "<class 'pandas.core.frame.DataFrame'>\n",
      "Index: 127656 entries, 140030 to 121958\n",
      "Data columns (total 2 columns):\n",
      " #   Column        Non-Null Count   Dtype \n",
      "---  ------        --------------   ----- \n",
      " 0   comment_text  127656 non-null  object\n",
      " 1   toxic         127656 non-null  int64 \n",
      "dtypes: int64(1), object(1)\n",
      "memory usage: 2.9+ MB\n",
      "<class 'pandas.core.frame.DataFrame'>\n",
      "Index: 15958 entries, 116051 to 124631\n",
      "Data columns (total 2 columns):\n",
      " #   Column        Non-Null Count  Dtype \n",
      "---  ------        --------------  ----- \n",
      " 0   comment_text  15958 non-null  object\n",
      " 1   toxic         15958 non-null  int64 \n",
      "dtypes: int64(1), object(1)\n",
      "memory usage: 374.0+ KB\n",
      "<class 'pandas.core.frame.DataFrame'>\n",
      "Index: 15957 entries, 66232 to 84672\n",
      "Data columns (total 2 columns):\n",
      " #   Column        Non-Null Count  Dtype \n",
      "---  ------        --------------  ----- \n",
      " 0   comment_text  15957 non-null  object\n",
      " 1   toxic         15957 non-null  int64 \n",
      "dtypes: int64(1), object(1)\n",
      "memory usage: 374.0+ KB\n"
     ]
    },
    {
     "data": {
      "text/plain": [
       "(None, None, None)"
      ]
     },
     "execution_count": 42,
     "metadata": {},
     "output_type": "execute_result"
    }
   ],
   "source": [
    "train.info(),test.info(),valid.info()"
   ]
  },
  {
   "cell_type": "code",
   "execution_count": 44,
   "id": "d49b5298-1f91-42e5-9db8-0f65118ef4ef",
   "metadata": {
    "execution": {
     "iopub.execute_input": "2025-09-12T00:03:05.817673Z",
     "iopub.status.busy": "2025-09-12T00:03:05.817397Z",
     "iopub.status.idle": "2025-09-12T00:03:05.846597Z",
     "shell.execute_reply": "2025-09-12T00:03:05.845940Z",
     "shell.execute_reply.started": "2025-09-12T00:03:05.817652Z"
    }
   },
   "outputs": [
    {
     "data": {
      "text/plain": [
       "(comment_text    0\n",
       " toxic           0\n",
       " dtype: int64,\n",
       " comment_text    0\n",
       " toxic           0\n",
       " dtype: int64,\n",
       " comment_text    0\n",
       " toxic           0\n",
       " dtype: int64)"
      ]
     },
     "execution_count": 44,
     "metadata": {},
     "output_type": "execute_result"
    }
   ],
   "source": [
    "train.isna().sum(),test.isna().sum(),valid.isna().sum()"
   ]
  },
  {
   "cell_type": "code",
   "execution_count": 46,
   "id": "cbea238b-c454-4747-9a8a-4e68db7572d9",
   "metadata": {
    "execution": {
     "iopub.execute_input": "2025-09-12T00:03:35.584402Z",
     "iopub.status.busy": "2025-09-12T00:03:35.584127Z",
     "iopub.status.idle": "2025-09-12T00:03:35.590551Z",
     "shell.execute_reply": "2025-09-12T00:03:35.589846Z",
     "shell.execute_reply.started": "2025-09-12T00:03:35.584382Z"
    }
   },
   "outputs": [
    {
     "name": "stdout",
     "output_type": "stream",
     "text": [
      "[1 0]\n",
      "[0 1]\n",
      "[0 1]\n"
     ]
    }
   ],
   "source": [
    "print(train['toxic'].unique()) \n",
    "print(valid['toxic'].unique()) \n",
    "print(test['toxic'].unique()) \n"
   ]
  },
  {
   "cell_type": "code",
   "execution_count": 47,
   "id": "a0b021aa-d6a5-416b-a1a5-897b6900850d",
   "metadata": {
    "execution": {
     "iopub.execute_input": "2025-09-12T00:05:10.228198Z",
     "iopub.status.busy": "2025-09-12T00:05:10.227917Z",
     "iopub.status.idle": "2025-09-12T00:05:11.723997Z",
     "shell.execute_reply": "2025-09-12T00:05:11.723321Z",
     "shell.execute_reply.started": "2025-09-12T00:05:10.228178Z"
    }
   },
   "outputs": [],
   "source": [
    "train.to_csv(\"train.csv\", index=False)\n",
    "valid.to_csv(\"valid.csv\", index=False)\n",
    "test.to_csv(\"test.csv\", index=False)"
   ]
  },
  {
   "cell_type": "code",
   "execution_count": null,
   "id": "7ef44814-96e1-46e6-9944-b42fd749866f",
   "metadata": {},
   "outputs": [],
   "source": []
  }
 ],
 "metadata": {
  "kernelspec": {
   "display_name": "Python 3 (ipykernel)",
   "language": "python",
   "name": "python3"
  },
  "language_info": {
   "codemirror_mode": {
    "name": "ipython",
    "version": 3
   },
   "file_extension": ".py",
   "mimetype": "text/x-python",
   "name": "python",
   "nbconvert_exporter": "python",
   "pygments_lexer": "ipython3",
   "version": "3.12.9"
  }
 },
 "nbformat": 4,
 "nbformat_minor": 5
}
