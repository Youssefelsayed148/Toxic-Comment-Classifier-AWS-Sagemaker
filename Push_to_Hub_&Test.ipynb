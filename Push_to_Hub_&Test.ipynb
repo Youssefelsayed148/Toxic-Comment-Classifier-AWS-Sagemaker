{
 "cells": [
  {
   "cell_type": "code",
   "execution_count": 14,
   "id": "cd786e2f-33ee-4ad5-b92c-955ea44a9d96",
   "metadata": {
    "execution": {
     "iopub.execute_input": "2025-09-12T19:04:23.342307Z",
     "iopub.status.busy": "2025-09-12T19:04:23.340803Z",
     "iopub.status.idle": "2025-09-12T19:04:31.917787Z",
     "shell.execute_reply": "2025-09-12T19:04:31.917069Z",
     "shell.execute_reply.started": "2025-09-12T19:04:23.342276Z"
    }
   },
   "outputs": [
    {
     "name": "stderr",
     "output_type": "stream",
     "text": [
      "2025-09-12 19:04:25.247071: I tensorflow/core/platform/cpu_feature_guard.cc:210] This TensorFlow binary is optimized to use available CPU instructions in performance-critical operations.\n",
      "To enable the following instructions: SSE4.1 SSE4.2 AVX AVX2 AVX512F FMA, in other operations, rebuild TensorFlow with the appropriate compiler flags.\n"
     ]
    }
   ],
   "source": [
    "import os\n",
    "import tarfile\n",
    "import boto3\n",
    "from transformers import AutoModelForSequenceClassification, AutoTokenizer,pipeline\n",
    "from huggingface_hub import HfApi, HfFolder, create_repo"
   ]
  },
  {
   "cell_type": "code",
   "execution_count": 2,
   "id": "0cdef147-10d2-44fd-838d-454d127ec30a",
   "metadata": {
    "execution": {
     "iopub.execute_input": "2025-09-12T18:44:19.728274Z",
     "iopub.status.busy": "2025-09-12T18:44:19.727999Z",
     "iopub.status.idle": "2025-09-12T18:44:19.732057Z",
     "shell.execute_reply": "2025-09-12T18:44:19.731363Z",
     "shell.execute_reply.started": "2025-09-12T18:44:19.728252Z"
    }
   },
   "outputs": [],
   "source": [
    "bucket = \"sagemaker-eu-north-1-013001369529\"\n",
    "job_name = \"huggingface-pytorch-training-2025-09-12-02-55-33-638\"\n",
    "s3_key=\"s3://sagemaker-eu-north-1-013001369529/huggingface-pytorch-training-2025-09-12-02-55-33-638/output/model.tar.gz\"\n",
    "local_tar_path = \"toxic_model.tar.gz\"\n",
    "extract_dir = \"model_artifacts\"\n",
    "repo_id = \"Youssef-El-SaYed/toxic-comment-classifier\"  "
   ]
  },
  {
   "cell_type": "code",
   "execution_count": 4,
   "id": "b43fb590-e85e-4369-a703-f16db7631d65",
   "metadata": {
    "execution": {
     "iopub.execute_input": "2025-09-12T18:46:33.291994Z",
     "iopub.status.busy": "2025-09-12T18:46:33.291717Z",
     "iopub.status.idle": "2025-09-12T18:46:40.646587Z",
     "shell.execute_reply": "2025-09-12T18:46:40.645990Z",
     "shell.execute_reply.started": "2025-09-12T18:46:33.291974Z"
    },
    "scrolled": true
   },
   "outputs": [
    {
     "name": "stdout",
     "output_type": "stream",
     "text": [
      "Downloaded: toxic_model.tar.gz\n"
     ]
    }
   ],
   "source": [
    "s3 = boto3.client(\"s3\")\n",
    "# Extract bucket name and key correctly\n",
    "s3_bucket = bucket\n",
    "s3_object_key = s3_key.replace(f\"s3://{bucket}/\", \"\")\n",
    "\n",
    "# Download model.tar.gz\n",
    "s3.download_file(s3_bucket, s3_object_key, local_tar_path)\n",
    "print(\"Downloaded:\", local_tar_path)"
   ]
  },
  {
   "cell_type": "code",
   "execution_count": 5,
   "id": "18a4a3ef-3cbf-481d-acf2-a1135601e73c",
   "metadata": {
    "execution": {
     "iopub.execute_input": "2025-09-12T18:47:00.307388Z",
     "iopub.status.busy": "2025-09-12T18:47:00.306949Z",
     "iopub.status.idle": "2025-09-12T18:47:26.346047Z",
     "shell.execute_reply": "2025-09-12T18:47:26.345203Z",
     "shell.execute_reply.started": "2025-09-12T18:47:00.307355Z"
    }
   },
   "outputs": [
    {
     "name": "stderr",
     "output_type": "stream",
     "text": [
      "/tmp/ipykernel_19973/3292829401.py:4: DeprecationWarning: Python 3.14 will, by default, filter extracted tar archives and reject files or modify their metadata. Use the filter argument to control this behavior.\n",
      "  tar.extractall(path=extract_dir)\n"
     ]
    },
    {
     "name": "stdout",
     "output_type": "stream",
     "text": [
      "Extracted to: model_artifacts\n"
     ]
    }
   ],
   "source": [
    "os.makedirs(extract_dir, exist_ok=True)\n",
    "\n",
    "with tarfile.open(local_tar_path, \"r:gz\") as tar:\n",
    "    tar.extractall(path=extract_dir)\n",
    "\n",
    "print(\"Extracted to:\", extract_dir)\n"
   ]
  },
  {
   "cell_type": "code",
   "execution_count": 6,
   "id": "b6a9def1-c475-4f33-9322-d2aec2e2d2e9",
   "metadata": {
    "execution": {
     "iopub.execute_input": "2025-09-12T18:48:29.520927Z",
     "iopub.status.busy": "2025-09-12T18:48:29.520651Z",
     "iopub.status.idle": "2025-09-12T18:48:29.538809Z",
     "shell.execute_reply": "2025-09-12T18:48:29.538071Z",
     "shell.execute_reply.started": "2025-09-12T18:48:29.520907Z"
    }
   },
   "outputs": [
    {
     "data": {
      "application/vnd.jupyter.widget-view+json": {
       "model_id": "879398d85c25404abdd99d5838d16c36",
       "version_major": 2,
       "version_minor": 0
      },
      "text/plain": [
       "VBox(children=(HTML(value='<center> <img\\nsrc=https://huggingface.co/front/assets/huggingface_logo-noborder.sv…"
      ]
     },
     "metadata": {},
     "output_type": "display_data"
    }
   ],
   "source": [
    "from huggingface_hub import notebook_login\n",
    "\n",
    "notebook_login()"
   ]
  },
  {
   "cell_type": "code",
   "execution_count": 11,
   "id": "dc4190fa-4dbd-439c-9c26-5f38de4c722c",
   "metadata": {
    "execution": {
     "iopub.execute_input": "2025-09-12T18:55:46.823209Z",
     "iopub.status.busy": "2025-09-12T18:55:46.822782Z",
     "iopub.status.idle": "2025-09-12T18:55:46.829644Z",
     "shell.execute_reply": "2025-09-12T18:55:46.829014Z",
     "shell.execute_reply.started": "2025-09-12T18:55:46.823141Z"
    }
   },
   "outputs": [],
   "source": [
    "repo_name = \"toxic-comment-classifier\"\n",
    "repo_id = f\"Youssef-El-SaYed/{repo_name}\"\n"
   ]
  },
  {
   "cell_type": "code",
   "execution_count": 12,
   "id": "11bcf51e-668b-4f1b-a305-69df8401584d",
   "metadata": {
    "execution": {
     "iopub.execute_input": "2025-09-12T18:56:10.860449Z",
     "iopub.status.busy": "2025-09-12T18:56:10.860069Z",
     "iopub.status.idle": "2025-09-12T18:56:11.340441Z",
     "shell.execute_reply": "2025-09-12T18:56:11.339805Z",
     "shell.execute_reply.started": "2025-09-12T18:56:10.860416Z"
    }
   },
   "outputs": [
    {
     "data": {
      "text/plain": [
       "RepoUrl('https://huggingface.co/Youssef-El-SaYed/toxic-comment-classifier', endpoint='https://huggingface.co', repo_type='model', repo_id='Youssef-El-SaYed/toxic-comment-classifier')"
      ]
     },
     "execution_count": 12,
     "metadata": {},
     "output_type": "execute_result"
    }
   ],
   "source": [
    "token = HfFolder.get_token()\n",
    "\n",
    "create_repo(repo_id, repo_type=\"model\", exist_ok=True, token=token)"
   ]
  },
  {
   "cell_type": "code",
   "execution_count": 13,
   "id": "456b4440-da0e-4462-a1ef-a7ec1d8a7220",
   "metadata": {
    "execution": {
     "iopub.execute_input": "2025-09-12T18:56:39.603728Z",
     "iopub.status.busy": "2025-09-12T18:56:39.603376Z",
     "iopub.status.idle": "2025-09-12T18:57:16.008883Z",
     "shell.execute_reply": "2025-09-12T18:57:16.008099Z",
     "shell.execute_reply.started": "2025-09-12T18:56:39.603702Z"
    }
   },
   "outputs": [
    {
     "data": {
      "application/vnd.jupyter.widget-view+json": {
       "model_id": "9e531caf2704496285ee246bf3aed6aa",
       "version_major": 2,
       "version_minor": 0
      },
      "text/plain": [
       "Processing Files (0 / 0)                : |          |  0.00B /  0.00B            "
      ]
     },
     "metadata": {},
     "output_type": "display_data"
    },
    {
     "data": {
      "application/vnd.jupyter.widget-view+json": {
       "model_id": "8a6180eb50474e9e87992995b954b43f",
       "version_major": 2,
       "version_minor": 0
      },
      "text/plain": [
       "New Data Upload                         : |          |  0.00B /  0.00B            "
      ]
     },
     "metadata": {},
     "output_type": "display_data"
    },
    {
     "data": {
      "application/vnd.jupyter.widget-view+json": {
       "model_id": "5ed25ccdc61e4cc39b6a03cd41587c93",
       "version_major": 2,
       "version_minor": 0
      },
      "text/plain": [
       "  ...acts/checkpoint-15958/rng_state.pth:  78%|#######7  | 11.0kB / 14.2kB            "
      ]
     },
     "metadata": {},
     "output_type": "display_data"
    },
    {
     "data": {
      "application/vnd.jupyter.widget-view+json": {
       "model_id": "ac35e9815196447287978ab8d9876b75",
       "version_major": 2,
       "version_minor": 0
      },
      "text/plain": [
       "  ...acts/checkpoint-15500/rng_state.pth:  78%|#######7  | 11.0kB / 14.2kB            "
      ]
     },
     "metadata": {},
     "output_type": "display_data"
    },
    {
     "data": {
      "application/vnd.jupyter.widget-view+json": {
       "model_id": "30690c1328fd4e13ac2ce0a0e337efd4",
       "version_major": 2,
       "version_minor": 0
      },
      "text/plain": [
       "  ...facts/checkpoint-15958/optimizer.pt:   0%|          |  643kB /  536MB            "
      ]
     },
     "metadata": {},
     "output_type": "display_data"
    },
    {
     "data": {
      "application/vnd.jupyter.widget-view+json": {
       "model_id": "d6cd79b5ad404ff5aa14d1be27cbcde1",
       "version_major": 2,
       "version_minor": 0
      },
      "text/plain": [
       "  .../checkpoint-15958/model.safetensors:   0%|          | 71.1kB /  268MB            "
      ]
     },
     "metadata": {},
     "output_type": "display_data"
    },
    {
     "data": {
      "application/vnd.jupyter.widget-view+json": {
       "model_id": "5b627ff03cdc423dbcb4ca2dc251d8a1",
       "version_major": 2,
       "version_minor": 0
      },
      "text/plain": [
       "  ...r/model_artifacts/model.safetensors:   0%|          |  575kB /  268MB            "
      ]
     },
     "metadata": {},
     "output_type": "display_data"
    },
    {
     "data": {
      "application/vnd.jupyter.widget-view+json": {
       "model_id": "2ddac708dd6947dcaaf8760be4faac49",
       "version_major": 2,
       "version_minor": 0
      },
      "text/plain": [
       "  .../checkpoint-15500/model.safetensors:   0%|          |  574kB /  268MB            "
      ]
     },
     "metadata": {},
     "output_type": "display_data"
    },
    {
     "data": {
      "application/vnd.jupyter.widget-view+json": {
       "model_id": "81cd05a4ab59483891db0256d84d51a5",
       "version_major": 2,
       "version_minor": 0
      },
      "text/plain": [
       "  ...facts/checkpoint-15500/optimizer.pt:   0%|          |  644kB /  536MB            "
      ]
     },
     "metadata": {},
     "output_type": "display_data"
    },
    {
     "data": {
      "application/vnd.jupyter.widget-view+json": {
       "model_id": "b6f36b887ba449069bbe64f59a059b0b",
       "version_major": 2,
       "version_minor": 0
      },
      "text/plain": [
       "  ...facts/checkpoint-15500/scheduler.pt:  10%|#         |   110B / 1.06kB            "
      ]
     },
     "metadata": {},
     "output_type": "display_data"
    },
    {
     "data": {
      "application/vnd.jupyter.widget-view+json": {
       "model_id": "15ec558b2608404697be9650b0e364e0",
       "version_major": 2,
       "version_minor": 0
      },
      "text/plain": [
       "  .../checkpoint-15500/training_args.bin:  10%|#         |   546B / 5.24kB            "
      ]
     },
     "metadata": {},
     "output_type": "display_data"
    },
    {
     "data": {
      "application/vnd.jupyter.widget-view+json": {
       "model_id": "bda658282e504f3da93ce46714718e8b",
       "version_major": 2,
       "version_minor": 0
      },
      "text/plain": [
       "  ...facts/checkpoint-15958/scheduler.pt:  10%|#         |   110B / 1.06kB            "
      ]
     },
     "metadata": {},
     "output_type": "display_data"
    },
    {
     "name": "stdout",
     "output_type": "stream",
     "text": [
      "✅ Model uploaded: https://huggingface.co/Youssef-El-SaYed/toxic-comment-classifier\n"
     ]
    }
   ],
   "source": [
    "api = HfApi()\n",
    "api.upload_folder(\n",
    "    folder_path=extract_dir,   \n",
    "    repo_id=repo_id,\n",
    "    repo_type=\"model\",\n",
    "    commit_message=\"Upload fine-tuned toxic comment classifier model\",\n",
    "    token=token\n",
    ")\n",
    "\n",
    "print(f\"✅ Model uploaded: https://huggingface.co/{repo_id}\")"
   ]
  },
  {
   "cell_type": "code",
   "execution_count": 15,
   "id": "04ac5fe9-c88a-41a2-aeed-b759f64dc11c",
   "metadata": {
    "execution": {
     "iopub.execute_input": "2025-09-12T19:04:31.921378Z",
     "iopub.status.busy": "2025-09-12T19:04:31.920771Z",
     "iopub.status.idle": "2025-09-12T19:04:40.162813Z",
     "shell.execute_reply": "2025-09-12T19:04:40.161835Z",
     "shell.execute_reply.started": "2025-09-12T19:04:31.921346Z"
    }
   },
   "outputs": [
    {
     "data": {
      "application/vnd.jupyter.widget-view+json": {
       "model_id": "a1bf3edda48f4a9eae5614c5b9024a3d",
       "version_major": 2,
       "version_minor": 0
      },
      "text/plain": [
       "tokenizer_config.json: 0.00B [00:00, ?B/s]"
      ]
     },
     "metadata": {},
     "output_type": "display_data"
    },
    {
     "data": {
      "application/vnd.jupyter.widget-view+json": {
       "model_id": "52fe4f9b6f2446e987a73e8a9f633e9f",
       "version_major": 2,
       "version_minor": 0
      },
      "text/plain": [
       "vocab.txt: 0.00B [00:00, ?B/s]"
      ]
     },
     "metadata": {},
     "output_type": "display_data"
    },
    {
     "data": {
      "application/vnd.jupyter.widget-view+json": {
       "model_id": "3567e7d4e6754f68b806edf2a4fbbfd3",
       "version_major": 2,
       "version_minor": 0
      },
      "text/plain": [
       "tokenizer.json: 0.00B [00:00, ?B/s]"
      ]
     },
     "metadata": {},
     "output_type": "display_data"
    },
    {
     "data": {
      "application/vnd.jupyter.widget-view+json": {
       "model_id": "f2c306eb9afb44dbb700a2b4fcccd1a9",
       "version_major": 2,
       "version_minor": 0
      },
      "text/plain": [
       "special_tokens_map.json:   0%|          | 0.00/125 [00:00<?, ?B/s]"
      ]
     },
     "metadata": {},
     "output_type": "display_data"
    },
    {
     "data": {
      "application/vnd.jupyter.widget-view+json": {
       "model_id": "58620f332cf94694a3bafa4a14524be1",
       "version_major": 2,
       "version_minor": 0
      },
      "text/plain": [
       "config.json:   0%|          | 0.00/615 [00:00<?, ?B/s]"
      ]
     },
     "metadata": {},
     "output_type": "display_data"
    },
    {
     "data": {
      "application/vnd.jupyter.widget-view+json": {
       "model_id": "7c511d9c51064ad894efe4f2e6e62bb8",
       "version_major": 2,
       "version_minor": 0
      },
      "text/plain": [
       "model.safetensors:   0%|          | 0.00/268M [00:00<?, ?B/s]"
      ]
     },
     "metadata": {},
     "output_type": "display_data"
    },
    {
     "name": "stderr",
     "output_type": "stream",
     "text": [
      "Device set to use cpu\n"
     ]
    },
    {
     "name": "stdout",
     "output_type": "stream",
     "text": [
      "[{'label': 'LABEL_1', 'score': 0.9894742369651794}]\n",
      "[{'label': 'LABEL_0', 'score': 0.9999063014984131}]\n"
     ]
    }
   ],
   "source": [
    "model_id = \"Youssef-El-SaYed/toxic-comment-classifier\"\n",
    "\n",
    "# Load from Hugging Face Hub\n",
    "tokenizer = AutoTokenizer.from_pretrained(model_id)\n",
    "model = AutoModelForSequenceClassification.from_pretrained(model_id)\n",
    "\n",
    "# Build pipeline\n",
    "pipe = pipeline(\"text-classification\", model=model, tokenizer=tokenizer)\n",
    "\n",
    "# Test examples\n",
    "print(pipe(\"I hate you so much!\"))\n",
    "print(pipe(\"What a wonderful day, thank you!\"))"
   ]
  },
  {
   "cell_type": "code",
   "execution_count": 23,
   "id": "9c81567f-fb24-4783-ae98-45b2909fd8cc",
   "metadata": {
    "execution": {
     "iopub.execute_input": "2025-09-12T19:25:35.247557Z",
     "iopub.status.busy": "2025-09-12T19:25:35.247260Z",
     "iopub.status.idle": "2025-09-12T19:25:37.706266Z",
     "shell.execute_reply": "2025-09-12T19:25:37.705471Z",
     "shell.execute_reply.started": "2025-09-12T19:25:35.247534Z"
    }
   },
   "outputs": [
    {
     "name": "stderr",
     "output_type": "stream",
     "text": [
      "Device set to use cpu\n"
     ]
    },
    {
     "name": "stdout",
     "output_type": "stream",
     "text": [
      "[{'label': 'Toxic', 'score': 0.9931373596191406}]\n",
      "[{'label': 'Non-Toxic', 'score': 0.9997437596321106}]\n"
     ]
    }
   ],
   "source": [
    "from transformers import AutoTokenizer, AutoModelForSequenceClassification, pipeline\n",
    " \n",
    "model_id = \"Youssef-El-SaYed/toxic-comment-classifier\"\n",
    "\n",
    "# Define mapping\n",
    "id2label = {0: \"Non-Toxic\", 1: \"Toxic\"}\n",
    "label2id = {\"Non-Toxic\": 0, \"Toxic\": 1}\n",
    "\n",
    "tokenizer = AutoTokenizer.from_pretrained(model_id)\n",
    "model = AutoModelForSequenceClassification.from_pretrained(\n",
    "    model_id,\n",
    "    id2label=id2label,\n",
    "    label2id=label2id\n",
    ")\n",
    "\n",
    "nlp = pipeline(\"text-classification\", model=model, tokenizer=tokenizer)\n",
    "\n",
    "print(nlp(\"You are so stupid and annoying!\"))  \n",
    "print(nlp(\"I really like your work, keep it up!\"))\n"
   ]
  },
  {
   "cell_type": "code",
   "execution_count": null,
   "id": "67c54906-8225-4663-896d-40a1c58a41cb",
   "metadata": {},
   "outputs": [],
   "source": []
  }
 ],
 "metadata": {
  "kernelspec": {
   "display_name": "Python 3 (ipykernel)",
   "language": "python",
   "name": "python3"
  },
  "language_info": {
   "codemirror_mode": {
    "name": "ipython",
    "version": 3
   },
   "file_extension": ".py",
   "mimetype": "text/x-python",
   "name": "python",
   "nbconvert_exporter": "python",
   "pygments_lexer": "ipython3",
   "version": "3.12.9"
  }
 },
 "nbformat": 4,
 "nbformat_minor": 5
}
